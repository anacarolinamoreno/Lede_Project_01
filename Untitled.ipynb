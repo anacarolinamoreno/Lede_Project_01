{
 "cells": [
  {
   "cell_type": "markdown",
   "id": "1c87e88a-1a8b-41fb-bf65-0c62515e1c76",
   "metadata": {},
   "source": [
    "# Project 1 - How much does China cost?"
   ]
  },
  {
   "cell_type": "markdown",
   "id": "aea93389-210a-4547-ad89-3d6f6e310d3e",
   "metadata": {},
   "source": [
    "### Objective:\n",
    "To catalog how much my mother and I spent on our trip to China while practicing Python, LLM output fact-checking, mapping and HTML+CSS"
   ]
  },
  {
   "cell_type": "markdown",
   "id": "aaaa686b-ec62-48f6-a7f8-5569b8af9baa",
   "metadata": {},
   "source": [
    "### Steps:\n",
    "1- From raw data to a dictionary with minimum typing\n",
    "<br>\n",
    "2- LLM fact-checking for accuracy\n",
    "<br>\n",
    "3- Data analysis on Python\n",
    "<br>\n",
    "4- Dataviz\n",
    "<br>\n",
    "5- Presentation"
   ]
  },
  {
   "cell_type": "code",
   "execution_count": null,
   "id": "5c398068-a88d-4e85-b104-f020605215c4",
   "metadata": {},
   "outputs": [],
   "source": [
    "### 1- From raw data to a dictionary with minimum typing"
   ]
  }
 ],
 "metadata": {
  "kernelspec": {
   "display_name": "Python 3 (ipykernel)",
   "language": "python",
   "name": "python3"
  },
  "language_info": {
   "codemirror_mode": {
    "name": "ipython",
    "version": 3
   },
   "file_extension": ".py",
   "mimetype": "text/x-python",
   "name": "python",
   "nbconvert_exporter": "python",
   "pygments_lexer": "ipython3",
   "version": "3.11.8"
  }
 },
 "nbformat": 4,
 "nbformat_minor": 5
}
