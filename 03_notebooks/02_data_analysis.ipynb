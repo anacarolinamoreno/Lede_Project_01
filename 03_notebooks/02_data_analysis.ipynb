{
 "cells": [
  {
   "cell_type": "markdown",
   "id": "92f4a440-01df-4c9c-90d7-c03a275c4274",
   "metadata": {},
   "source": [
    "# Analysing data\n",
    "\n",
    "Getting insights from the complete and tidy dataset to plot into graphs on **Datawrapper**."
   ]
  },
  {
   "cell_type": "code",
   "execution_count": 2,
   "id": "d67d3aac-89dd-47aa-b00e-e05c45850af9",
   "metadata": {},
   "outputs": [],
   "source": [
    "# Import libraries\n",
    "import pandas as pd\n",
    "import warnings"
   ]
  },
  {
   "cell_type": "code",
   "execution_count": 3,
   "id": "c44be2f7-85a8-4fd2-8ee8-f7d7d67609af",
   "metadata": {},
   "outputs": [
    {
     "name": "stdout",
     "output_type": "stream",
     "text": [
      "<class 'pandas.core.frame.DataFrame'>\n",
      "RangeIndex: 134 entries, 0 to 133\n",
      "Data columns (total 8 columns):\n",
      " #   Column            Non-Null Count  Dtype  \n",
      "---  ------            --------------  -----  \n",
      " 0   date              134 non-null    object \n",
      " 1   city              134 non-null    object \n",
      " 2   expense           134 non-null    object \n",
      " 3   price             134 non-null    float64\n",
      " 4   payment_source    134 non-null    object \n",
      " 5   category          134 non-null    object \n",
      " 6   price_per_capita  134 non-null    float64\n",
      " 7   payment_type      134 non-null    object \n",
      "dtypes: float64(2), object(6)\n",
      "memory usage: 8.5+ KB\n"
     ]
    }
   ],
   "source": [
    "# Open dataset\n",
    "df = pd.read_csv(\"../04_tidy_data/china_df.csv\")\n",
    "df.info()"
   ]
  },
  {
   "cell_type": "code",
   "execution_count": 5,
   "id": "1006bbba-5992-4fab-ba12-49f5f03a4afc",
   "metadata": {},
   "outputs": [
    {
     "name": "stdout",
     "output_type": "stream",
     "text": [
      "<class 'pandas.core.frame.DataFrame'>\n",
      "Index: 134 entries, 0 to 133\n",
      "Data columns (total 8 columns):\n",
      " #   Column            Non-Null Count  Dtype  \n",
      "---  ------            --------------  -----  \n",
      " 0   date              134 non-null    object \n",
      " 1   city              134 non-null    object \n",
      " 2   expense           134 non-null    object \n",
      " 3   price             134 non-null    float64\n",
      " 4   payment_source    134 non-null    object \n",
      " 5   category          134 non-null    object \n",
      " 6   price_per_capita  134 non-null    float64\n",
      " 7   payment_type      134 non-null    object \n",
      "dtypes: float64(2), object(6)\n",
      "memory usage: 9.4+ KB\n"
     ]
    }
   ],
   "source": [
    "# Looks like our date format was lost in the cleaning process. Let's fix it again:\n",
    "df[\"date\"] = pd.Series(df[\"date\"])\n",
    "df[\"date\"] = pd.to_datetime(df[\"date\"], format='%b-%d')\n",
    "df = df.sort_values(\"date\", ascending=True)\n",
    "df[\"date\"] = df[\"date\"].dt.strftime('%b-%d')\n",
    "df.info()"
   ]
  },
  {
   "cell_type": "code",
   "execution_count": 6,
   "id": "e9c45475-7b4f-484f-8e2d-fb748986c349",
   "metadata": {},
   "outputs": [
    {
     "data": {
      "text/html": [
       "<div>\n",
       "<style scoped>\n",
       "    .dataframe tbody tr th:only-of-type {\n",
       "        vertical-align: middle;\n",
       "    }\n",
       "\n",
       "    .dataframe tbody tr th {\n",
       "        vertical-align: top;\n",
       "    }\n",
       "\n",
       "    .dataframe thead th {\n",
       "        text-align: right;\n",
       "    }\n",
       "</style>\n",
       "<table border=\"1\" class=\"dataframe\">\n",
       "  <thead>\n",
       "    <tr style=\"text-align: right;\">\n",
       "      <th></th>\n",
       "      <th>date</th>\n",
       "      <th>city</th>\n",
       "      <th>expense</th>\n",
       "      <th>price</th>\n",
       "      <th>payment_source</th>\n",
       "      <th>category</th>\n",
       "      <th>price_per_capita</th>\n",
       "      <th>payment_type</th>\n",
       "    </tr>\n",
       "  </thead>\n",
       "  <tbody>\n",
       "    <tr>\n",
       "      <th>0</th>\n",
       "      <td>May-11</td>\n",
       "      <td>Pequim</td>\n",
       "      <td>Táxi do aeroporto para a casa da Renata</td>\n",
       "      <td>87.0</td>\n",
       "      <td>Carol</td>\n",
       "      <td>Transporte</td>\n",
       "      <td>43.50</td>\n",
       "      <td>apps</td>\n",
       "    </tr>\n",
       "    <tr>\n",
       "      <th>5</th>\n",
       "      <td>May-12</td>\n",
       "      <td>Pequim</td>\n",
       "      <td>Almoço Qianmen</td>\n",
       "      <td>64.0</td>\n",
       "      <td>Carol</td>\n",
       "      <td>Alimentação</td>\n",
       "      <td>32.00</td>\n",
       "      <td>apps</td>\n",
       "    </tr>\n",
       "    <tr>\n",
       "      <th>1</th>\n",
       "      <td>May-12</td>\n",
       "      <td>Pequim</td>\n",
       "      <td>Didi pro shopping das Pérolas (Hungqiao Market)</td>\n",
       "      <td>13.3</td>\n",
       "      <td>Carol</td>\n",
       "      <td>Transporte</td>\n",
       "      <td>6.65</td>\n",
       "      <td>apps</td>\n",
       "    </tr>\n",
       "    <tr>\n",
       "      <th>3</th>\n",
       "      <td>May-12</td>\n",
       "      <td>Pequim</td>\n",
       "      <td>Didi pra casa</td>\n",
       "      <td>45.0</td>\n",
       "      <td>Carol</td>\n",
       "      <td>Transporte</td>\n",
       "      <td>22.50</td>\n",
       "      <td>apps</td>\n",
       "    </tr>\n",
       "    <tr>\n",
       "      <th>4</th>\n",
       "      <td>May-12</td>\n",
       "      <td>Pequim</td>\n",
       "      <td>Didi pra Qianmen</td>\n",
       "      <td>14.8</td>\n",
       "      <td>Carol</td>\n",
       "      <td>Transporte</td>\n",
       "      <td>7.40</td>\n",
       "      <td>apps</td>\n",
       "    </tr>\n",
       "  </tbody>\n",
       "</table>\n",
       "</div>"
      ],
      "text/plain": [
       "     date    city                                          expense  price  \\\n",
       "0  May-11  Pequim          Táxi do aeroporto para a casa da Renata   87.0   \n",
       "5  May-12  Pequim                                   Almoço Qianmen   64.0   \n",
       "1  May-12  Pequim  Didi pro shopping das Pérolas (Hungqiao Market)   13.3   \n",
       "3  May-12  Pequim                                    Didi pra casa   45.0   \n",
       "4  May-12  Pequim                                 Didi pra Qianmen   14.8   \n",
       "\n",
       "  payment_source     category  price_per_capita payment_type  \n",
       "0          Carol   Transporte             43.50         apps  \n",
       "5          Carol  Alimentação             32.00         apps  \n",
       "1          Carol   Transporte              6.65         apps  \n",
       "3          Carol   Transporte             22.50         apps  \n",
       "4          Carol   Transporte              7.40         apps  "
      ]
     },
     "execution_count": 6,
     "metadata": {},
     "output_type": "execute_result"
    }
   ],
   "source": [
    "df.head(5)"
   ]
  },
  {
   "cell_type": "markdown",
   "id": "5eb64759-5861-4fab-ac61-a768ede9008c",
   "metadata": {},
   "source": [
    "## 1- Comparing expenses in general"
   ]
  },
  {
   "cell_type": "markdown",
   "id": "3185e91d-d9a8-4951-ab87-d560c070818c",
   "metadata": {},
   "source": [
    "#### What where the top 5 largest unique expenses?"
   ]
  },
  {
   "cell_type": "code",
   "execution_count": 10,
   "id": "af0af0f6-3bb8-4228-973c-d989632eba99",
   "metadata": {},
   "outputs": [
    {
     "data": {
      "text/html": [
       "<div>\n",
       "<style scoped>\n",
       "    .dataframe tbody tr th:only-of-type {\n",
       "        vertical-align: middle;\n",
       "    }\n",
       "\n",
       "    .dataframe tbody tr th {\n",
       "        vertical-align: top;\n",
       "    }\n",
       "\n",
       "    .dataframe thead th {\n",
       "        text-align: right;\n",
       "    }\n",
       "</style>\n",
       "<table border=\"1\" class=\"dataframe\">\n",
       "  <thead>\n",
       "    <tr style=\"text-align: right;\">\n",
       "      <th></th>\n",
       "      <th>date</th>\n",
       "      <th>city</th>\n",
       "      <th>expense</th>\n",
       "      <th>price</th>\n",
       "      <th>payment_source</th>\n",
       "      <th>category</th>\n",
       "      <th>price_per_capita</th>\n",
       "      <th>payment_type</th>\n",
       "    </tr>\n",
       "  </thead>\n",
       "  <tbody>\n",
       "    <tr>\n",
       "      <th>0</th>\n",
       "      <td>May-11</td>\n",
       "      <td>Pequim</td>\n",
       "      <td>Táxi do aeroporto para a casa da Renata</td>\n",
       "      <td>87.00</td>\n",
       "      <td>Carol</td>\n",
       "      <td>Transporte</td>\n",
       "      <td>43.50</td>\n",
       "      <td>apps</td>\n",
       "    </tr>\n",
       "    <tr>\n",
       "      <th>5</th>\n",
       "      <td>May-12</td>\n",
       "      <td>Pequim</td>\n",
       "      <td>Almoço Qianmen</td>\n",
       "      <td>64.00</td>\n",
       "      <td>Carol</td>\n",
       "      <td>Alimentação</td>\n",
       "      <td>32.00</td>\n",
       "      <td>apps</td>\n",
       "    </tr>\n",
       "    <tr>\n",
       "      <th>1</th>\n",
       "      <td>May-12</td>\n",
       "      <td>Pequim</td>\n",
       "      <td>Didi pro shopping das Pérolas (Hungqiao Market)</td>\n",
       "      <td>13.30</td>\n",
       "      <td>Carol</td>\n",
       "      <td>Transporte</td>\n",
       "      <td>6.65</td>\n",
       "      <td>apps</td>\n",
       "    </tr>\n",
       "    <tr>\n",
       "      <th>3</th>\n",
       "      <td>May-12</td>\n",
       "      <td>Pequim</td>\n",
       "      <td>Didi pra casa</td>\n",
       "      <td>45.00</td>\n",
       "      <td>Carol</td>\n",
       "      <td>Transporte</td>\n",
       "      <td>22.50</td>\n",
       "      <td>apps</td>\n",
       "    </tr>\n",
       "    <tr>\n",
       "      <th>4</th>\n",
       "      <td>May-12</td>\n",
       "      <td>Pequim</td>\n",
       "      <td>Didi pra Qianmen</td>\n",
       "      <td>14.80</td>\n",
       "      <td>Carol</td>\n",
       "      <td>Transporte</td>\n",
       "      <td>7.40</td>\n",
       "      <td>apps</td>\n",
       "    </tr>\n",
       "    <tr>\n",
       "      <th>...</th>\n",
       "      <td>...</td>\n",
       "      <td>...</td>\n",
       "      <td>...</td>\n",
       "      <td>...</td>\n",
       "      <td>...</td>\n",
       "      <td>...</td>\n",
       "      <td>...</td>\n",
       "      <td>...</td>\n",
       "    </tr>\n",
       "    <tr>\n",
       "      <th>129</th>\n",
       "      <td>Jun-02</td>\n",
       "      <td>Guangzhou</td>\n",
       "      <td>Livraria</td>\n",
       "      <td>11.50</td>\n",
       "      <td>Carol</td>\n",
       "      <td>Compras/presentes</td>\n",
       "      <td>3.83</td>\n",
       "      <td>apps</td>\n",
       "    </tr>\n",
       "    <tr>\n",
       "      <th>130</th>\n",
       "      <td>Jun-02</td>\n",
       "      <td>Guangzhou</td>\n",
       "      <td>Didi</td>\n",
       "      <td>18.79</td>\n",
       "      <td>Carol</td>\n",
       "      <td>Transporte</td>\n",
       "      <td>6.26</td>\n",
       "      <td>apps</td>\n",
       "    </tr>\n",
       "    <tr>\n",
       "      <th>131</th>\n",
       "      <td>Jun-03</td>\n",
       "      <td>Pequim</td>\n",
       "      <td>Didi para o aeroporto</td>\n",
       "      <td>90.00</td>\n",
       "      <td>Renata</td>\n",
       "      <td>Transporte</td>\n",
       "      <td>45.00</td>\n",
       "      <td>apps</td>\n",
       "    </tr>\n",
       "    <tr>\n",
       "      <th>132</th>\n",
       "      <td>Jun-03</td>\n",
       "      <td>Pequim</td>\n",
       "      <td>Taobao e Meituan</td>\n",
       "      <td>840.47</td>\n",
       "      <td>Renata</td>\n",
       "      <td>Compras/presentes</td>\n",
       "      <td>420.24</td>\n",
       "      <td>apps</td>\n",
       "    </tr>\n",
       "    <tr>\n",
       "      <th>133</th>\n",
       "      <td>Jun-03</td>\n",
       "      <td>Pequim</td>\n",
       "      <td>Massagem nos pés</td>\n",
       "      <td>156.00</td>\n",
       "      <td>Carol</td>\n",
       "      <td>Compras/presentes</td>\n",
       "      <td>78.00</td>\n",
       "      <td>apps</td>\n",
       "    </tr>\n",
       "  </tbody>\n",
       "</table>\n",
       "<p>134 rows × 8 columns</p>\n",
       "</div>"
      ],
      "text/plain": [
       "       date       city                                          expense  \\\n",
       "0    May-11     Pequim          Táxi do aeroporto para a casa da Renata   \n",
       "5    May-12     Pequim                                   Almoço Qianmen   \n",
       "1    May-12     Pequim  Didi pro shopping das Pérolas (Hungqiao Market)   \n",
       "3    May-12     Pequim                                    Didi pra casa   \n",
       "4    May-12     Pequim                                 Didi pra Qianmen   \n",
       "..      ...        ...                                              ...   \n",
       "129  Jun-02  Guangzhou                                         Livraria   \n",
       "130  Jun-02  Guangzhou                                             Didi   \n",
       "131  Jun-03     Pequim                            Didi para o aeroporto   \n",
       "132  Jun-03     Pequim                                 Taobao e Meituan   \n",
       "133  Jun-03     Pequim                                 Massagem nos pés   \n",
       "\n",
       "      price payment_source           category  price_per_capita payment_type  \n",
       "0     87.00          Carol         Transporte             43.50         apps  \n",
       "5     64.00          Carol        Alimentação             32.00         apps  \n",
       "1     13.30          Carol         Transporte              6.65         apps  \n",
       "3     45.00          Carol         Transporte             22.50         apps  \n",
       "4     14.80          Carol         Transporte              7.40         apps  \n",
       "..      ...            ...                ...               ...          ...  \n",
       "129   11.50          Carol  Compras/presentes              3.83         apps  \n",
       "130   18.79          Carol         Transporte              6.26         apps  \n",
       "131   90.00         Renata         Transporte             45.00         apps  \n",
       "132  840.47         Renata  Compras/presentes            420.24         apps  \n",
       "133  156.00          Carol  Compras/presentes             78.00         apps  \n",
       "\n",
       "[134 rows x 8 columns]"
      ]
     },
     "execution_count": 10,
     "metadata": {},
     "output_type": "execute_result"
    }
   ],
   "source": [
    "df.sort_values(by='price_per_capita', ascending=False)\n",
    "df"
   ]
  },
  {
   "cell_type": "code",
   "execution_count": 9,
   "id": "c18c0b48-cb9b-402c-894b-b6a01c36ac08",
   "metadata": {},
   "outputs": [],
   "source": [
    "##### Below here the rest is still incomplete"
   ]
  },
  {
   "cell_type": "markdown",
   "id": "b81a1418-d600-4fc3-a254-71c3a37958a7",
   "metadata": {},
   "source": [
    "## 2- Comparing expenses by city"
   ]
  },
  {
   "cell_type": "code",
   "execution_count": null,
   "id": "a1606886-9326-4925-8f65-a39065fd46e5",
   "metadata": {},
   "outputs": [],
   "source": []
  },
  {
   "cell_type": "code",
   "execution_count": null,
   "id": "88760c6c-dc34-49bb-a053-0327f8bd8259",
   "metadata": {},
   "outputs": [],
   "source": []
  },
  {
   "cell_type": "code",
   "execution_count": null,
   "id": "b806b732-317c-491c-b11a-5af7094801fd",
   "metadata": {},
   "outputs": [],
   "source": []
  },
  {
   "cell_type": "code",
   "execution_count": null,
   "id": "0727cd18-596a-415f-b1fb-aa23384d4d0d",
   "metadata": {},
   "outputs": [],
   "source": []
  },
  {
   "cell_type": "markdown",
   "id": "8ddb5213-848a-4a34-9744-3b6da07edf6a",
   "metadata": {},
   "source": [
    "## 3- Comparing expenses by category"
   ]
  },
  {
   "cell_type": "code",
   "execution_count": null,
   "id": "48f06721-cddd-4232-9a24-2a153c1ee405",
   "metadata": {},
   "outputs": [],
   "source": []
  },
  {
   "cell_type": "code",
   "execution_count": null,
   "id": "addd24f7-b23c-43de-ba79-2c4d0decfab4",
   "metadata": {},
   "outputs": [],
   "source": []
  },
  {
   "cell_type": "code",
   "execution_count": null,
   "id": "63c1ad51-087c-4cbd-b1a6-1a97f8dd27a7",
   "metadata": {},
   "outputs": [],
   "source": []
  },
  {
   "cell_type": "code",
   "execution_count": null,
   "id": "d8f34d52-c2d5-4005-9b2f-218d4d2bf947",
   "metadata": {},
   "outputs": [],
   "source": []
  },
  {
   "cell_type": "markdown",
   "id": "1429d197-3388-4347-af99-edc44b969f02",
   "metadata": {},
   "source": [
    "## 4- Comparing expenses by type of payment"
   ]
  },
  {
   "cell_type": "markdown",
   "id": "51bb3187-9213-400d-a3bc-eb7d0eea3405",
   "metadata": {},
   "source": [
    "#### How much did we spend using each payment type?"
   ]
  },
  {
   "cell_type": "code",
   "execution_count": 35,
   "id": "bf900737-d698-4060-9d98-0aa30eae923e",
   "metadata": {},
   "outputs": [
    {
     "data": {
      "text/html": [
       "<div>\n",
       "<style scoped>\n",
       "    .dataframe tbody tr th:only-of-type {\n",
       "        vertical-align: middle;\n",
       "    }\n",
       "\n",
       "    .dataframe tbody tr th {\n",
       "        vertical-align: top;\n",
       "    }\n",
       "\n",
       "    .dataframe thead th {\n",
       "        text-align: right;\n",
       "    }\n",
       "</style>\n",
       "<table border=\"1\" class=\"dataframe\">\n",
       "  <thead>\n",
       "    <tr style=\"text-align: right;\">\n",
       "      <th></th>\n",
       "      <th>price</th>\n",
       "    </tr>\n",
       "    <tr>\n",
       "      <th>payment_type</th>\n",
       "      <th></th>\n",
       "    </tr>\n",
       "  </thead>\n",
       "  <tbody>\n",
       "    <tr>\n",
       "      <th>apps</th>\n",
       "      <td>23700.56</td>\n",
       "    </tr>\n",
       "    <tr>\n",
       "      <th>credit card</th>\n",
       "      <td>49907.01</td>\n",
       "    </tr>\n",
       "  </tbody>\n",
       "</table>\n",
       "</div>"
      ],
      "text/plain": [
       "                 price\n",
       "payment_type          \n",
       "apps          23700.56\n",
       "credit card   49907.01"
      ]
     },
     "execution_count": 35,
     "metadata": {},
     "output_type": "execute_result"
    }
   ],
   "source": [
    "df1 = df.groupby(\"payment_type\")[\"price\"].sum()\n",
    "total_payment_type = pd.DataFrame(data=df1)\n",
    "total_payment_type"
   ]
  },
  {
   "cell_type": "markdown",
   "id": "d8f536e7-c35b-40a1-bcee-a9ebd6414f71",
   "metadata": {},
   "source": [
    "#### How many payments did we make with each type?"
   ]
  },
  {
   "cell_type": "code",
   "execution_count": 36,
   "id": "5324d2d0-0f4c-422b-a104-bbeadb62c65b",
   "metadata": {},
   "outputs": [
    {
     "data": {
      "text/html": [
       "<div>\n",
       "<style scoped>\n",
       "    .dataframe tbody tr th:only-of-type {\n",
       "        vertical-align: middle;\n",
       "    }\n",
       "\n",
       "    .dataframe tbody tr th {\n",
       "        vertical-align: top;\n",
       "    }\n",
       "\n",
       "    .dataframe thead th {\n",
       "        text-align: right;\n",
       "    }\n",
       "</style>\n",
       "<table border=\"1\" class=\"dataframe\">\n",
       "  <thead>\n",
       "    <tr style=\"text-align: right;\">\n",
       "      <th></th>\n",
       "      <th>count</th>\n",
       "    </tr>\n",
       "    <tr>\n",
       "      <th>payment_type</th>\n",
       "      <th></th>\n",
       "    </tr>\n",
       "  </thead>\n",
       "  <tbody>\n",
       "    <tr>\n",
       "      <th>apps</th>\n",
       "      <td>126</td>\n",
       "    </tr>\n",
       "    <tr>\n",
       "      <th>credit card</th>\n",
       "      <td>8</td>\n",
       "    </tr>\n",
       "  </tbody>\n",
       "</table>\n",
       "</div>"
      ],
      "text/plain": [
       "              count\n",
       "payment_type       \n",
       "apps            126\n",
       "credit card       8"
      ]
     },
     "execution_count": 36,
     "metadata": {},
     "output_type": "execute_result"
    }
   ],
   "source": [
    "df2 = df.groupby(\"payment_type\")[\"payment_type\"].value_counts()\n",
    "count_payment_type = pd.DataFrame(data=df2)\n",
    "count_payment_type"
   ]
  },
  {
   "cell_type": "markdown",
   "id": "d6780b07-1da4-4928-8926-13730a79d621",
   "metadata": {},
   "source": [
    "#### What was the average price per capita of expenses from each type of payment?"
   ]
  },
  {
   "cell_type": "code",
   "execution_count": 37,
   "id": "68abcc25-4e6a-4bcd-aa65-a4eee18d7a07",
   "metadata": {},
   "outputs": [
    {
     "data": {
      "text/html": [
       "<div>\n",
       "<style scoped>\n",
       "    .dataframe tbody tr th:only-of-type {\n",
       "        vertical-align: middle;\n",
       "    }\n",
       "\n",
       "    .dataframe tbody tr th {\n",
       "        vertical-align: top;\n",
       "    }\n",
       "\n",
       "    .dataframe thead th {\n",
       "        text-align: right;\n",
       "    }\n",
       "</style>\n",
       "<table border=\"1\" class=\"dataframe\">\n",
       "  <thead>\n",
       "    <tr style=\"text-align: right;\">\n",
       "      <th></th>\n",
       "      <th>price_per_capita</th>\n",
       "    </tr>\n",
       "    <tr>\n",
       "      <th>payment_type</th>\n",
       "      <th></th>\n",
       "    </tr>\n",
       "  </thead>\n",
       "  <tbody>\n",
       "    <tr>\n",
       "      <th>apps</th>\n",
       "      <td>76.858849</td>\n",
       "    </tr>\n",
       "    <tr>\n",
       "      <th>credit card</th>\n",
       "      <td>2116.187917</td>\n",
       "    </tr>\n",
       "  </tbody>\n",
       "</table>\n",
       "</div>"
      ],
      "text/plain": [
       "              price_per_capita\n",
       "payment_type                  \n",
       "apps                 76.858849\n",
       "credit card        2116.187917"
      ]
     },
     "execution_count": 37,
     "metadata": {},
     "output_type": "execute_result"
    }
   ],
   "source": [
    "df3 = df.groupby(\"payment_type\")[\"price_per_capita\"].mean()\n",
    "avg_payment_type = pd.DataFrame(data=df3)\n",
    "avg_payment_type"
   ]
  },
  {
   "cell_type": "markdown",
   "id": "c1d812a6-aa0b-439f-9e5b-687f129adbb1",
   "metadata": {},
   "source": [
    "## 5- Curious insights"
   ]
  },
  {
   "cell_type": "markdown",
   "id": "4c4f3a4f-8464-4b5e-9752-9a612cda3493",
   "metadata": {},
   "source": [
    "#### What did we buy the most?"
   ]
  }
 ],
 "metadata": {
  "kernelspec": {
   "display_name": "Python 3 (ipykernel)",
   "language": "python",
   "name": "python3"
  },
  "language_info": {
   "codemirror_mode": {
    "name": "ipython",
    "version": 3
   },
   "file_extension": ".py",
   "mimetype": "text/x-python",
   "name": "python",
   "nbconvert_exporter": "python",
   "pygments_lexer": "ipython3",
   "version": "3.11.8"
  }
 },
 "nbformat": 4,
 "nbformat_minor": 5
}
